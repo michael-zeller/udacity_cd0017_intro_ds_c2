{
 "cells": [
  {
   "cell_type": "markdown",
   "metadata": {},
   "source": [
    "# Bibliotheken importieren\n",
    "Importieren Sie die notwendigen Bibliotheken wie Pandas, NumPy und Matplotlib."
   ]
  },
  {
   "cell_type": "code",
   "execution_count": null,
   "metadata": {},
   "outputs": [],
   "source": [
    "# Bibliotheken importieren\n",
    "\n",
    "import pandas as pd  # Importieren von Pandas für die Datenanalyse\n",
    "import numpy as np  # Importieren von NumPy für numerische Operationen\n",
    "import matplotlib.pyplot as plt  # Importieren von Matplotlib für die Datenvisualisierung"
   ]
  },
  {
   "cell_type": "markdown",
   "metadata": {},
   "source": [
    "# Daten laden\n",
    "Laden Sie die Daten aus einer CSV-Datei oder einer anderen Datenquelle."
   ]
  },
  {
   "cell_type": "code",
   "execution_count": null,
   "metadata": {},
   "outputs": [],
   "source": [
    "# Daten laden\n",
    "\n",
    "# Laden der Daten aus einer CSV-Datei\n",
    "df = pd.read_csv('pfad/zur/datei.csv')\n",
    "\n",
    "# Anzeigen der ersten fünf Zeilen des DataFrames\n",
    "df.head()"
   ]
  },
  {
   "cell_type": "markdown",
   "metadata": {},
   "source": [
    "# Daten vorverarbeiten\n",
    "Bereinigen und transformieren Sie die Daten, um sie für die Analyse vorzubereiten."
   ]
  },
  {
   "cell_type": "code",
   "execution_count": null,
   "metadata": {},
   "outputs": [],
   "source": [
    "# Daten vorverarbeiten\n",
    "\n",
    "# Überprüfen auf fehlende Werte\n",
    "fehlende_werte = df.isnull().sum()\n",
    "print(\"Fehlende Werte pro Spalte:\\n\", fehlende_werte)\n",
    "\n",
    "# Entfernen von Zeilen mit fehlenden Werten\n",
    "df = df.dropna()\n",
    "\n",
    "# Entfernen von Duplikaten\n",
    "df = df.drop_duplicates()\n",
    "\n",
    "# Umwandeln von Datentypen (Beispiel: Umwandeln einer Spalte in den Datentyp 'datetime')\n",
    "df['datumsspalte'] = pd.to_datetime(df['datumsspalte'])\n",
    "\n",
    "# Skalieren von numerischen Daten (Beispiel: Normalisierung)\n",
    "from sklearn.preprocessing import MinMaxScaler\n",
    "scaler = MinMaxScaler()\n",
    "numerische_spalten = ['spalte1', 'spalte2', 'spalte3']\n",
    "df[numerische_spalten] = scaler.fit_transform(df[numerische_spalten])\n",
    "\n",
    "# Anzeigen der ersten fünf Zeilen des bereinigten DataFrames\n",
    "df.head()"
   ]
  },
  {
   "cell_type": "markdown",
   "metadata": {},
   "source": [
    "# Daten analysieren\n",
    "Führen Sie verschiedene Analysen auf den Daten durch, um Erkenntnisse zu gewinnen."
   ]
  },
  {
   "cell_type": "code",
   "execution_count": null,
   "metadata": {},
   "outputs": [],
   "source": [
    "# Daten analysieren\n",
    "\n",
    "# Beschreibende Statistik der numerischen Spalten anzeigen\n",
    "statistik = df.describe()\n",
    "print(\"Beschreibende Statistik:\\n\", statistik)\n",
    "\n",
    "# Korrelation zwischen den numerischen Spalten berechnen\n",
    "korrelation = df.corr()\n",
    "print(\"Korrelationsmatrix:\\n\", korrelation)\n",
    "\n",
    "# Histogramme der numerischen Spalten erstellen\n",
    "df[numerische_spalten].hist(bins=15, figsize=(15, 6), layout=(2, 3))\n",
    "plt.tight_layout()\n",
    "plt.show()\n",
    "\n",
    "# Boxplots der numerischen Spalten erstellen\n",
    "df[numerische_spalten].plot(kind='box', subplots=True, layout=(2, 3), figsize=(15, 6))\n",
    "plt.tight_layout()\n",
    "plt.show()\n",
    "\n",
    "# Scatterplot-Matrix der numerischen Spalten erstellen\n",
    "pd.plotting.scatter_matrix(df[numerische_spalten], figsize=(15, 10))\n",
    "plt.show()"
   ]
  },
  {
   "cell_type": "markdown",
   "metadata": {},
   "source": [
    "# Ergebnisse visualisieren\n",
    "Visualisieren Sie die Ergebnisse der Analyse mit Diagrammen und Grafiken."
   ]
  },
  {
   "cell_type": "code",
   "execution_count": null,
   "metadata": {},
   "outputs": [],
   "source": [
    "# Ergebnisse visualisieren\n",
    "\n",
    "# Balkendiagramm der durchschnittlichen Werte der numerischen Spalten\n",
    "df[numerische_spalten].mean().plot(kind='bar', figsize=(10, 6))\n",
    "plt.title('Durchschnittliche Werte der numerischen Spalten')\n",
    "plt.xlabel('Spalten')\n",
    "plt.ylabel('Durchschnittlicher Wert')\n",
    "plt.show()\n",
    "\n",
    "# Liniendiagramm der Zeitreihe (Beispiel: 'datumsspalte' vs. 'spalte1')\n",
    "plt.figure(figsize=(10, 6))\n",
    "plt.plot(df['datumsspalte'], df['spalte1'], marker='o')\n",
    "plt.title('Zeitreihe von spalte1')\n",
    "plt.xlabel('Datum')\n",
    "plt.ylabel('Wert von spalte1')\n",
    "plt.grid(True)\n",
    "plt.show()\n",
    "\n",
    "# Heatmap der Korrelationsmatrix\n",
    "plt.figure(figsize=(10, 8))\n",
    "sns.heatmap(korrelation, annot=True, cmap='coolwarm', fmt='.2f')\n",
    "plt.title('Heatmap der Korrelationsmatrix')\n",
    "plt.show()\n",
    "\n",
    "# Kreisdiagramm der Verteilung einer kategorialen Spalte (Beispiel: 'kategoriespalte')\n",
    "df['kategoriespalte'].value_counts().plot(kind='pie', autopct='%1.1f%%', figsize=(8, 8))\n",
    "plt.title('Verteilung der kategoriespalte')\n",
    "plt.ylabel('')\n",
    "plt.show()"
   ]
  }
 ],
 "metadata": {
  "language_info": {
   "name": "python"
  }
 },
 "nbformat": 4,
 "nbformat_minor": 2
}
